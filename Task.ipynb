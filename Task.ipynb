{
 "cells": [
  {
   "cell_type": "markdown",
   "id": "a2d143fb-8e0f-4261-9467-f42ab0e8e110",
   "metadata": {},
   "source": [
    "<h1>My Jupyter Notebook on IBM Watson Studio</h1>\n",
    "\n",
    "<strong>Mohamed Salah Hussein Sayed </strong>\n",
    "\n",
    "Data Scientist\n",
    "\n",
    "<em>I am interested in Data Science because I would love to contribute towards affordable and quality healthcare in the future</em>\n",
    "\n",
    "<h3>The below should print ‘Hello World’</h3>\n",
    "\n",
    "\n",
    " \n"
   ]
  },
  {
   "cell_type": "code",
   "execution_count": 1,
   "id": "8dc1ea5b-332f-4766-bbbc-9c2d49ebe619",
   "metadata": {},
   "outputs": [
    {
     "name": "stdout",
     "output_type": "stream",
     "text": [
      "Hello World\n"
     ]
    }
   ],
   "source": [
    "print(\"Hello World\")\n"
   ]
  },
  {
   "cell_type": "code",
   "execution_count": null,
   "id": "6dd97d71-24bc-4866-9fe4-215e98a8b71d",
   "metadata": {},
   "outputs": [],
   "source": []
  }
 ],
 "metadata": {
  "kernelspec": {
   "display_name": "Python",
   "language": "python",
   "name": "conda-env-python-py"
  },
  "language_info": {
   "codemirror_mode": {
    "name": "ipython",
    "version": 3
   },
   "file_extension": ".py",
   "mimetype": "text/x-python",
   "name": "python",
   "nbconvert_exporter": "python",
   "pygments_lexer": "ipython3",
   "version": "3.7.12"
  }
 },
 "nbformat": 4,
 "nbformat_minor": 5
}
